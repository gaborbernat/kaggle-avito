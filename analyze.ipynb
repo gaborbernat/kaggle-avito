{
 "cells": [
  {
   "cell_type": "code",
   "execution_count": 2,
   "metadata": {
    "collapsed": false
   },
   "outputs": [
    {
     "name": "stdout",
     "output_type": "stream",
     "text": [
      "pandas 0.16.1\n",
      "numpy 1.9.2\n",
      "tables 3.2.0\n",
      "frogress 0.9.1\n"
     ]
    }
   ],
   "source": [
    "import pandas as pd\n",
    "import numpy as np\n",
    "import tables\n",
    "import frogress\n",
    "print('pandas {}'.format(pd.__version__))\n",
    "print('numpy {}'.format(np.__version__))\n",
    "print('tables {}'.format(tables.__version__))\n",
    "print('frogress {}'.format(frogress.__version__))"
   ]
  },
  {
   "cell_type": "code",
   "execution_count": 9,
   "metadata": {
    "collapsed": false
   },
   "outputs": [
    {
     "name": "stdout",
     "output_type": "stream",
     "text": [
      "ID\tSearchID\tAdID\tPosition\tObjectType\tHistCTR\r\n",
      "1\t1\t10915336\t1\t3\t0.004999\r\n",
      "2\t1\t12258424\t6\t1\t\r\n"
     ]
    }
   ],
   "source": [
    "!head -n 3 data/testSearchStream.tsv"
   ]
  },
  {
   "cell_type": "code",
   "execution_count": 22,
   "metadata": {
    "collapsed": false
   },
   "outputs": [
    {
     "name": "stdout",
     "output_type": "stream",
     "text": [
      "SearchID\tAdID\tPosition\tObjectType\tHistCTR\tIsClick\r\n",
      "2\t11441863\t1\t3\t0.001804\t0\r\n",
      "2\t22968355\t7\t3\t0.004723\t0\r\n"
     ]
    }
   ],
   "source": [
    "!head -n 3 data/trainSearchStream.tsv"
   ]
  },
  {
   "cell_type": "code",
   "execution_count": 3,
   "metadata": {
    "collapsed": false
   },
   "outputs": [
    {
     "name": "stdout",
     "output_type": "stream",
     "text": [
      "[##########] | Progress: 98090 | Time: 45min12s | ETA: --"
     ]
    }
   ],
   "source": [
    "filename = 'data/trainSearchStream.tsv'\n",
    "n=4000\n",
    "with pd.HDFStore(filename.replace('tsv', 'hd5'),mode='w') as store:\n",
    "    for chunk in frogress.Bar(pd.read_csv(filename,chunksize=n, sep='\\t'), steps=(! wc -l filename)//n):\n",
    "        store.append('df',chunk)"
   ]
  },
  {
   "cell_type": "code",
   "execution_count": 4,
   "metadata": {
    "collapsed": false
   },
   "outputs": [
    {
     "data": {
      "text/plain": [
       "<class 'pandas.io.pytables.HDFStore'>\n",
       "File path: data/trainSearchStream.hd5\n",
       "/df            frame_table  (typ->appendable,nrows->392356948,ncols->6,indexers->[index])"
      ]
     },
     "execution_count": 4,
     "metadata": {},
     "output_type": "execute_result"
    }
   ],
   "source": [
    "s = pd.HDFStore('data/trainSearchStream.hd5')\n",
    "s"
   ]
  },
  {
   "cell_type": "code",
   "execution_count": 12,
   "metadata": {
    "collapsed": false,
    "scrolled": true
   },
   "outputs": [
    {
     "data": {
      "text/plain": [
       "/df._v_attrs (AttributeSet), 15 attributes:\n",
       "   [CLASS := 'GROUP',\n",
       "    TITLE := '',\n",
       "    VERSION := '1.0',\n",
       "    data_columns := [],\n",
       "    encoding := 'UTF-8',\n",
       "    index_cols := [(0, 'index')],\n",
       "    info := {1: {'names': [None], 'type': 'Index'}, 'index': {}},\n",
       "    levels := 1,\n",
       "    metadata := [],\n",
       "    nan_rep := 'nan',\n",
       "    non_index_axes := [(1, ['SearchID', 'AdID', 'Position', 'ObjectType', 'HistCTR', 'IsClick'])],\n",
       "    pandas_type := 'frame_table',\n",
       "    pandas_version := '0.15.2',\n",
       "    table_type := 'appendable_frame',\n",
       "    values_cols := ['values_block_0', 'values_block_1']]"
      ]
     },
     "execution_count": 12,
     "metadata": {},
     "output_type": "execute_result"
    }
   ],
   "source": [
    "s.get_storer('df').attrs"
   ]
  },
  {
   "cell_type": "code",
   "execution_count": null,
   "metadata": {
    "collapsed": true
   },
   "outputs": [],
   "source": []
  }
 ],
 "metadata": {
  "kernelspec": {
   "display_name": "Python 3",
   "language": "python",
   "name": "python3"
  },
  "language_info": {
   "codemirror_mode": {
    "name": "ipython",
    "version": 3
   },
   "file_extension": ".py",
   "mimetype": "text/x-python",
   "name": "python",
   "nbconvert_exporter": "python",
   "pygments_lexer": "ipython3",
   "version": "3.4.3"
  }
 },
 "nbformat": 4,
 "nbformat_minor": 0
}
